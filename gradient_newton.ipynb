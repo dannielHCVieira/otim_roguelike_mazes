{
 "cells": [
  {
   "cell_type": "code",
   "execution_count": null,
   "metadata": {},
   "outputs": [],
   "source": [
    "#Método do Gradiente\n",
    "\n",
    "import numpy as np\n",
    "\n",
    "def f(x):\n",
    "    x1, x2, x3 = x\n",
    "    return x1**2 + x1*x3 - x2 + x2**2 + x2*x3 + 3*x3**2\n",
    "\n",
    "def grad_f(x):\n",
    "    x1, x2, x3 = x\n",
    "    return np.array([2*x1 + x3, 2*x2 + x3 - 1, x1 + x2 + 6*x3])\n",
    "\n",
    "def gradient_descent(x0, learning_rate=0.01, tolerance=1e-4, max_iterations=1000):\n",
    "    x = x0\n",
    "    for _ in range(max_iterations):\n",
    "        grad = grad_f(x)\n",
    "        x_new = x - learning_rate * grad\n",
    "        if np.linalg.norm(x_new - x) < tolerance:\n",
    "            break\n",
    "        x = x_new\n",
    "    return x\n",
    "\n",
    "x0 = np.array([0.0, 0.0, 0.0])\n",
    "solution_gd = gradient_descent(x0)\n",
    "print(\"Gradient Descent Solution:\", solution_gd, \"with f(x):\", f(solution_gd))\n"
   ]
  },
  {
   "cell_type": "code",
   "execution_count": null,
   "metadata": {},
   "outputs": [],
   "source": [
    "#Método de Newton-Raphson\n",
    "\n",
    "def hessian_f():\n",
    "    return np.array([[2, 0, 1],\n",
    "                    [0, 2, 1],\n",
    "                    [1, 1, 6]])\n",
    "\n",
    "def newton_raphson(x0, tolerance=1e-4, max_iterations=1000):\n",
    "    x = x0\n",
    "    for _ in range(max_iterations):\n",
    "        grad = grad_f(x)\n",
    "        hessian = hessian_f()\n",
    "        x_new = x - np.linalg.inv(hessian).dot(grad)\n",
    "        if np.linalg.norm(x_new - x) < tolerance:\n",
    "            break\n",
    "        x = x_new\n",
    "    return x\n",
    "\n",
    "x0 = np.array([0.0, 0.0, 0.0])\n",
    "solution_nr = newton_raphson(x0)\n",
    "print(\"Newton-Raphson Solution:\", solution_nr, \"with f(x):\", f(solution_nr))\n"
   ]
  }
 ],
 "metadata": {
  "language_info": {
   "name": "python"
  }
 },
 "nbformat": 4,
 "nbformat_minor": 2
}
